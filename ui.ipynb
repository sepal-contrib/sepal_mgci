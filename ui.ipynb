{
 "cells": [
  {
   "cell_type": "code",
   "execution_count": null,
   "id": "6320d7f9-989e-4e60-a809-0453c05affc4",
   "metadata": {
    "tags": []
   },
   "outputs": [
    {
     "data": {
      "application/vnd.jupyter.widget-view+json": {
       "model_id": "38c1d69745cd463ebe5a8a85edf7f35b",
       "version_major": 2,
       "version_minor": 0
      },
      "text/plain": [
       "ResizeTrigger()"
      ]
     },
     "metadata": {},
     "output_type": "display_data"
    },
    {
     "data": {
      "text/html": [
       "<style>/* set the menu_content on top of the map when it's set to fullscreen */\n",
       ".v-menu__content {\n",
       "    z-index: 802 !important;\n",
       "  }\n",
       "  \n",
       "/* This is when this runs on jupyter lab 4 */\n",
       ".aoi_map.jupyter-widgets.leaflet-widgets {\n",
       "  height: 84vh !important;\n",
       "}\n",
       "\n",
       "/* This is when this runs on jupyter lab < 4 */\n",
       ".aoi_map .jupyter-widgets.leaflet-widgets {\n",
       "  height: 84vh !important;\n",
       "}\n",
       "\n",
       "/* This is when this runs on jupyter lab < 4 */\n",
       ".results_map .jupyter-widgets.leaflet-widgets {\n",
       "  height: 72vh !important;\n",
       "}\n",
       "\n",
       "/* This is when this runs on jupyter lab 4 */\n",
       ".results_map.jupyter-widgets.leaflet-widgets {\n",
       "  height: 72vh !important;\n",
       "}</style>"
      ],
      "text/plain": [
       "<IPython.core.display.HTML object>"
      ]
     },
     "metadata": {},
     "output_type": "display_data"
    }
   ],
   "source": [
    "from sepal_ui.scripts.utils import init_ee\n",
    "init_ee()\n",
    "\n",
    "import sepal_ui.sepalwidgets as sw\n",
    "\n",
    "from component.tile.calculation_tile import CalculationTile\n",
    "from component.tile.dashboard_tile import DashboardTile\n",
    "from component.tile.vegetation_tile import VegetationTile\n",
    "from component.tile.aoi_tile import AoiTile\n",
    "from component.tile.task_tile import TaskTile\n",
    "\n",
    "from component.widget.calc_params import Calculation\n",
    "from component.model import MgciModel\n",
    "from component.message import cm\n",
    "\n",
    "from sepal_ui.aoi.aoi_model import AoiModel\n",
    "import component.frontend # we need this line"
   ]
  },
  {
   "cell_type": "code",
   "execution_count": null,
   "id": "302a2177-bdae-428d-a1a1-8c758cb32979",
   "metadata": {
    "tags": []
   },
   "outputs": [],
   "source": [
    "# Create an appBar\n",
    "app_bar = sw.AppBar(cm.app.title)"
   ]
  },
  {
   "cell_type": "code",
   "execution_count": null,
   "id": "41695f79-8c81-4c18-bdfc-879b9c567ccd",
   "metadata": {
    "tags": []
   },
   "outputs": [],
   "source": [
    "# create the Html body of your about section\n",
    "about_tile = sw.TileAbout(\"utils/ABOUT.md\")\n",
    "disclaimer_tile = sw.TileDisclaimer()"
   ]
  },
  {
   "cell_type": "code",
   "execution_count": null,
   "id": "6fbf87f8",
   "metadata": {
    "tags": []
   },
   "outputs": [],
   "source": [
    "aoi_tile = AoiTile()\n",
    "model = MgciModel(aoi_tile.view.model)\n",
    "vegetation_tile = VegetationTile(model=model, aoi_model=model.aoi_model)\n",
    "calculation_tile = CalculationTile(model=model, units=\"sqkm\", rsa=True)\n",
    "dashboard_tile = DashboardTile(model)\n",
    "task_tile = TaskTile()"
   ]
  },
  {
   "cell_type": "code",
   "execution_count": null,
   "id": "dcd06625-8e1b-424a-8639-8b8d04754b5c",
   "metadata": {
    "tags": []
   },
   "outputs": [],
   "source": [
    "app_content = [\n",
    "    aoi_tile,\n",
    "    vegetation_tile,\n",
    "    calculation_tile,\n",
    "    dashboard_tile,\n",
    "    task_tile,\n",
    "    about_tile,\n",
    "    disclaimer_tile,\n",
    "]"
   ]
  },
  {
   "cell_type": "code",
   "execution_count": null,
   "id": "adf89022-8220-4731-8a06-111f28c4edbc",
   "metadata": {
    "tags": []
   },
   "outputs": [],
   "source": [
    "items = [\n",
    "    sw.DrawerItem(cm.app.drawer_item.about, \"mdi-help-circle\", card=\"about_tile\"),\n",
    "    sw.DrawerItem(cm.app.drawer_item.aoi, \"mdi-map-marker-check\", card=\"aoi_tile\"),\n",
    "    sw.DrawerItem(cm.app.drawer_item.vegetation, \"mdi-pine-tree\", card=\"vegetation_tile\"),\n",
    "    sw.DrawerItem(cm.app.drawer_item.calculation, \"mdi-cogs\", card=\"calculation_tile\"),\n",
    "    sw.DrawerItem(cm.app.drawer_item.dashboard, \"mdi-view-dashboard\", card=\"dashboard_tile\"),\n",
    "    sw.DrawerItem(cm.app.drawer_item.task, \"mdi-table\", card=\"task_tile\"),\n",
    "]\n",
    "\n",
    "# !!! not mandatory !!!\n",
    "# Add the links to the code, wiki and issue tracker of your\n",
    "code_link = \"https://github.com/sepal-contrib/sepal_mgci\"\n",
    "wiki_link = \"https://mgci-docs.readthedocs.io/en/latest/sepal/index.html\"\n",
    "issue_link = \"https://github.com/sepal-contrib/sepal_mgci/issues/new\"\n",
    "\n",
    "# Create the side drawer with all its components\n",
    "# The display_drawer() method link the drawer with the app bar\n",
    "app_drawer = sw.NavDrawer(\n",
    "    items=items, code=code_link, wiki=wiki_link, issue=issue_link\n",
    ").display_drawer(app_bar.toggle_button)"
   ]
  },
  {
   "cell_type": "code",
   "execution_count": null,
   "id": "25cca845-9098-4771-b0cd-be4fbe0389bf",
   "metadata": {
    "tags": []
   },
   "outputs": [],
   "source": [
    "# build the Html final app by gathering everything\n",
    "app = sw.App(tiles=app_content, appBar=app_bar, navDrawer=app_drawer).show_tile(\n",
    "    \"about_tile\"\n",
    ")"
   ]
  },
  {
   "cell_type": "code",
   "execution_count": null,
   "id": "81605f26-1ed3-4bdb-8c17-706c5c07fa38",
   "metadata": {
    "tags": []
   },
   "outputs": [],
   "source": [
    "app"
   ]
  }
 ],
 "metadata": {
  "kernelspec": {
   "display_name": "mgci",
   "language": "python",
   "name": "python3"
  },
  "language_info": {
   "codemirror_mode": {
    "name": "ipython",
    "version": 3
   },
   "file_extension": ".py",
   "mimetype": "text/x-python",
   "name": "python",
   "nbconvert_exporter": "python",
   "pygments_lexer": "ipython3",
   "version": "3.10.0"
  }
 },
 "nbformat": 4,
 "nbformat_minor": 5
}
